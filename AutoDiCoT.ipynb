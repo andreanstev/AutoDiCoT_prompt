{
 "cells": [
  {
   "cell_type": "code",
   "execution_count": 1,
   "id": "debcbe80-5740-41f3-b714-96f1e9e161a8",
   "metadata": {},
   "outputs": [],
   "source": [
    "from google import genai\n",
    "from google.genai import types\n",
    "import pandas as pd\n",
    "import json\n",
    "from itertools import cycle\n",
    "import ctypes\n",
    "import time\n",
    "from random import randint\n",
    "from loguru import logger \n",
    "from tenacity import retry, stop_after_delay, stop_after_attempt\n",
    "import os\n",
    "\n",
    "client = genai.Client(api_key='GEMINI_API_KEY')"
   ]
  },
  {
   "cell_type": "code",
   "execution_count": 2,
   "id": "8c615ab6-0ed6-42b3-b836-657aaf7966ea",
   "metadata": {},
   "outputs": [],
   "source": [
    "@retry(stop=(stop_after_delay(1) | stop_after_attempt(3)))\n",
    "def generate_content(prompt, system_prompt = \"\", temperature=0.1, max_output_tokens=4096):\n",
    "    safety_settings = [\n",
    "                                                {\"category\": \"HARM_CATEGORY_HARASSMENT\", \"threshold\": \"BLOCK_NONE\"},\n",
    "                                                {\"category\": \"HARM_CATEGORY_DANGEROUS_CONTENT\", \"threshold\": \"BLOCK_NONE\"},\n",
    "                                                {\"category\": \"HARM_CATEGORY_HATE_SPEECH\", \"threshold\": \"BLOCK_NONE\"},\n",
    "                                                {\"category\": \"HARM_CATEGORY_SEXUALLY_EXPLICIT\", \"threshold\": \"BLOCK_NONE\"},\n",
    "                                            ]\n",
    "    if system_prompt:\n",
    "        config = types.GenerateContentConfig(max_output_tokens=max_output_tokens,\n",
    "                                            temperature=temperature,\n",
    "                                            system_instruction=[\n",
    "                                                system_prompt\n",
    "                                            ],\n",
    "                                            safety_settings=safety_settings\n",
    "                                            )\n",
    "    else:\n",
    "        config = types.GenerateContentConfig(max_output_tokens=max_output_tokens,\n",
    "                                            temperature=temperature,\n",
    "                                            safety_settings=safety_settings\n",
    "                                            )\n",
    "    result = client.models.generate_content(model=\"models/gemini-2.5-flash-preview-05-20\",\n",
    "                                            contents=[\n",
    "                                                prompt\n",
    "                                            ], \n",
    "                                            config = config\n",
    "    )\n",
    "    result_text = result.text\n",
    "    if not result_text:\n",
    "        raise Exception()\n",
    "    return result_text"
   ]
  },
  {
   "cell_type": "code",
   "execution_count": 3,
   "id": "0da343f5-5997-4b46-beb8-5e54589932d7",
   "metadata": {},
   "outputs": [],
   "source": [
    "def decompose_problem(problem):\n",
    "    \"\"\"Prompt the model to decompose the problem into steps.\"\"\"\n",
    "    prompt = f\"\"\"\n",
    "    You are an expert problem solver. Given the following problem, break it down into clear, logical steps needed to solve it. Provide only the steps as a numbered list, no explanations:\n",
    "    \n",
    "    Problem: {problem}\n",
    "    \n",
    "    Steps:\n",
    "    \"\"\"\n",
    "    system_prompt = \"You are a precise and logical problem solver.\"\n",
    "    response_text = generate_content(prompt, system_prompt = system_prompt, temperature=0.2, max_output_tokens=4096)\n",
    "    logger.info(response_text)\n",
    "    steps = response_text.strip().split(\"\\n\")[2:]  # Skip \"Steps:\" header\n",
    "    return [step.strip() for step in steps if step.strip()]\n",
    "\n",
    "def execute_step(step, context):\n",
    "    \"\"\"Execute a single reasoning step using the model, with context from previous steps.\"\"\"\n",
    "    prompt = f\"\"\"\n",
    "    Given the problem and previous context, solve the following step and provide the result. If calculations are needed, show them clearly. If the step involves reasoning, explain briefly. Return only the result and a brief explanation (if needed).\n",
    "\n",
    "    Problem: {context['problem']}\n",
    "    Previous context: {context.get('previous_steps', [])}\n",
    "    Current step: {step}\n",
    "    \n",
    "    Result:\n",
    "    \"\"\"\n",
    "    system_prompt = \"You are a precise and logical problem solver.\"\n",
    "    response_text = generate_content(prompt, system_prompt = system_prompt, temperature=0.2, max_output_tokens=4096)\n",
    "    logger.info(response_text)\n",
    "    return response_text.strip().split(\"\\n\")[-1]  # Extract result\n",
    "\n",
    "def validate_step(step, result, context):\n",
    "    \"\"\"Validate the result of a step and decide if refinement is needed.\"\"\"\n",
    "    prompt = f\"\"\"\n",
    "    You are a validator for a reasoning step. Given the problem, the step, and its result, check if the result is correct and logical. If incorrect or unclear, suggest a correction or clarification. Return 'Valid' if correct, or a correction suggestion if not.\n",
    "\n",
    "    Problem: {context['problem']}\n",
    "    Step: {step}\n",
    "    Result: {result}\n",
    "    \n",
    "    Validation:\n",
    "    \"\"\"\n",
    "    system_prompt = \"You are a precise validator of logical steps.\"\n",
    "    response_text = generate_content(prompt, system_prompt = system_prompt, temperature=0.2, max_output_tokens=4096)\n",
    "    logger.info(response_text)\n",
    "    return response_text.strip().split(\"\\n\")[-1]\n",
    "\n",
    "def autodicot(problem):\n",
    "    \"\"\"Main AutoDiCoT function to solve a problem with directed reasoning.\"\"\"\n",
    "    context = {\"problem\": problem, \"previous_steps\": []}\n",
    "    \n",
    "    # Step 1: Decompose the problem\n",
    "    steps = decompose_problem(problem)\n",
    "    print(\"Decomposed Steps:\", steps)\n",
    "    \n",
    "    results = []\n",
    "    for step in steps:\n",
    "        # Step 2: Execute the step\n",
    "        result = execute_step(step, context)\n",
    "        print(f\"Step: {step}\\nResult: {result}\")\n",
    "        \n",
    "        # Step 3: Validate the result\n",
    "        validation = validate_step(step, result, context)\n",
    "        if validation != \"Valid\":\n",
    "            print(f\"Validation failed: {validation}\")\n",
    "            # Refine by re-executing with correction suggestion\n",
    "            context[\"previous_steps\"].append(f\"{step}: {result} (Correction: {validation})\")\n",
    "            result = execute_step(step, context)  # Re-run with updated context\n",
    "            print(f\"Refined Result: {result}\")\n",
    "        \n",
    "        context[\"previous_steps\"].append(f\"{step}: {result}\")\n",
    "        results.append(result)\n",
    "        time.sleep(1)\n",
    "        \n",
    "    # Step 4: Consolidate final answer\n",
    "    final_prompt = f\"\"\"\n",
    "    Given the problem and all reasoning steps, provide the final answer concisely.\n",
    "    \n",
    "    Problem: {problem}\n",
    "    Reasoning steps: {context['previous_steps']}\n",
    "    \n",
    "    Final Answer:\n",
    "    \"\"\"\n",
    "    system_prompt = \"You are a precise problem solver.\"\n",
    "    response_text = generate_content(final_prompt, system_prompt = system_prompt, temperature=0.2, max_output_tokens=4096)\n",
    "    logger.info(response_text)\n",
    "    final_answer = response_text.strip().split(\"\\n\")[-1]\n",
    "    return final_answer\n"
   ]
  },
  {
   "cell_type": "code",
   "execution_count": 4,
   "id": "b2f6ebf1-0269-4cc8-814c-c8d617b99d17",
   "metadata": {},
   "outputs": [
    {
     "name": "stderr",
     "output_type": "stream",
     "text": [
      "\u001b[32m2025-06-16 10:19:02.094\u001b[0m | \u001b[1mINFO    \u001b[0m | \u001b[36m__main__\u001b[0m:\u001b[36mdecompose_problem\u001b[0m:\u001b[36m12\u001b[0m - \u001b[1m1. Calculate the discount amount.\n",
      "2. Subtract the discount amount from the original price to find the price after discount.\n",
      "3. Calculate the sales tax amount on the discounted price.\n",
      "4. Add the sales tax amount to the discounted price to find the final price.\u001b[0m\n"
     ]
    },
    {
     "name": "stdout",
     "output_type": "stream",
     "text": [
      "Decomposed Steps: ['3. Calculate the sales tax amount on the discounted price.', '4. Add the sales tax amount to the discounted price to find the final price.']\n"
     ]
    },
    {
     "name": "stderr",
     "output_type": "stream",
     "text": [
      "\u001b[32m2025-06-16 10:19:03.691\u001b[0m | \u001b[1mINFO    \u001b[0m | \u001b[36m__main__\u001b[0m:\u001b[36mexecute_step\u001b[0m:\u001b[36m29\u001b[0m - \u001b[1mSales tax amount = 5% of $40 = 0.05 * 40 = $2.00\u001b[0m\n"
     ]
    },
    {
     "name": "stdout",
     "output_type": "stream",
     "text": [
      "Step: 3. Calculate the sales tax amount on the discounted price.\n",
      "Result: Sales tax amount = 5% of $40 = 0.05 * 40 = $2.00\n"
     ]
    },
    {
     "name": "stderr",
     "output_type": "stream",
     "text": [
      "\u001b[32m2025-06-16 10:19:05.689\u001b[0m | \u001b[1mINFO    \u001b[0m | \u001b[36m__main__\u001b[0m:\u001b[36mvalidate_step\u001b[0m:\u001b[36m45\u001b[0m - \u001b[1mValid\u001b[0m\n",
      "\u001b[32m2025-06-16 10:19:07.655\u001b[0m | \u001b[1mINFO    \u001b[0m | \u001b[36m__main__\u001b[0m:\u001b[36mexecute_step\u001b[0m:\u001b[36m29\u001b[0m - \u001b[1mFinal price = $40 + $2.00 = $42.00\u001b[0m\n"
     ]
    },
    {
     "name": "stdout",
     "output_type": "stream",
     "text": [
      "Step: 4. Add the sales tax amount to the discounted price to find the final price.\n",
      "Result: Final price = $40 + $2.00 = $42.00\n"
     ]
    },
    {
     "name": "stderr",
     "output_type": "stream",
     "text": [
      "\u001b[32m2025-06-16 10:19:10.663\u001b[0m | \u001b[1mINFO    \u001b[0m | \u001b[36m__main__\u001b[0m:\u001b[36mvalidate_step\u001b[0m:\u001b[36m45\u001b[0m - \u001b[1mValid\u001b[0m\n",
      "\u001b[32m2025-06-16 10:19:12.328\u001b[0m | \u001b[1mINFO    \u001b[0m | \u001b[36m__main__\u001b[0m:\u001b[36mautodicot\u001b[0m:\u001b[36m86\u001b[0m - \u001b[1mThe final price is $42.00.\u001b[0m\n"
     ]
    },
    {
     "name": "stdout",
     "output_type": "stream",
     "text": [
      "\n",
      "Final Answer: The final price is $42.00.\n"
     ]
    }
   ],
   "source": [
    "problem = \"A store offers a 20% discount on a $50 item. If there's a 5% sales tax applied after the discount, what is the final price?\"\n",
    "final_answer = autodicot(problem)\n",
    "print(f\"\\nFinal Answer: {final_answer}\")"
   ]
  },
  {
   "cell_type": "code",
   "execution_count": 5,
   "id": "96b0d8a0-858c-4804-93ec-0184bde0dca3",
   "metadata": {},
   "outputs": [
    {
     "name": "stderr",
     "output_type": "stream",
     "text": [
      "\u001b[32m2025-06-16 10:19:19.300\u001b[0m | \u001b[1mINFO    \u001b[0m | \u001b[36m__main__\u001b[0m:\u001b[36mdecompose_problem\u001b[0m:\u001b[36m12\u001b[0m - \u001b[1m1.  State the null and alternative hypotheses.\n",
      "2.  Identify the significance level (alpha).\n",
      "3.  Determine the appropriate formula for the two-sample t-statistic, considering whether to assume equal or unequal variances.\n",
      "4.  Calculate the t-statistic.\n",
      "5.  Calculate the degrees of freedom for the t-test.\n",
      "6.  Determine the critical t-value(s) for the given significance level and degrees of freedom, or calculate the p-value.\n",
      "7.  Compare the calculated t-statistic to the critical t-value(s) or compare the p-value to the significance level.\n",
      "8.  Make a decision regarding the null hypothesis (reject or fail to reject).\n",
      "9.  State the conclusion of the hypothesis test in the context of the problem.\n",
      "10. Calculate the standard error of the difference between the means.\n",
      "11. Determine the t-multiplier for the 95% confidence interval using the calculated degrees of freedom.\n",
      "12. Calculate the 95% confidence interval for the difference in mean scores.\n",
      "13. State the final conclusion based on both the hypothesis test and the confidence interval.\u001b[0m\n"
     ]
    },
    {
     "name": "stdout",
     "output_type": "stream",
     "text": [
      "Decomposed Steps: ['3.  Determine the appropriate formula for the two-sample t-statistic, considering whether to assume equal or unequal variances.', '4.  Calculate the t-statistic.', '5.  Calculate the degrees of freedom for the t-test.', '6.  Determine the critical t-value(s) for the given significance level and degrees of freedom, or calculate the p-value.', '7.  Compare the calculated t-statistic to the critical t-value(s) or compare the p-value to the significance level.', '8.  Make a decision regarding the null hypothesis (reject or fail to reject).', '9.  State the conclusion of the hypothesis test in the context of the problem.', '10. Calculate the standard error of the difference between the means.', '11. Determine the t-multiplier for the 95% confidence interval using the calculated degrees of freedom.', '12. Calculate the 95% confidence interval for the difference in mean scores.', '13. State the final conclusion based on both the hypothesis test and the confidence interval.']\n"
     ]
    },
    {
     "name": "stderr",
     "output_type": "stream",
     "text": [
      "\u001b[32m2025-06-16 10:19:24.495\u001b[0m | \u001b[1mINFO    \u001b[0m | \u001b[36m__main__\u001b[0m:\u001b[36mexecute_step\u001b[0m:\u001b[36m29\u001b[0m - \u001b[1mThe appropriate formula for the two-sample t-statistic, assuming unequal variances (Welch's t-test), is:\n",
      "\n",
      "$t = \\frac{(\\bar{x}_1 - \\bar{x}_2) - (\\mu_1 - \\mu_2)}{\\sqrt{\\frac{s_1^2}{n_1} + \\frac{s_2^2}{n_2}}}$\n",
      "\n",
      "This formula is chosen because the standard deviations of the two samples are different (10 and 8), and there is no information or instruction to assume equal variances. The Welch's t-test is more robust when the assumption of equal variances might not hold.\u001b[0m\n"
     ]
    },
    {
     "name": "stdout",
     "output_type": "stream",
     "text": [
      "Step: 3.  Determine the appropriate formula for the two-sample t-statistic, considering whether to assume equal or unequal variances.\n",
      "Result: This formula is chosen because the standard deviations of the two samples are different (10 and 8), and there is no information or instruction to assume equal variances. The Welch's t-test is more robust when the assumption of equal variances might not hold.\n"
     ]
    },
    {
     "name": "stderr",
     "output_type": "stream",
     "text": [
      "\u001b[32m2025-06-16 10:19:26.160\u001b[0m | \u001b[1mINFO    \u001b[0m | \u001b[36m__main__\u001b[0m:\u001b[36mvalidate_step\u001b[0m:\u001b[36m45\u001b[0m - \u001b[1mValid\u001b[0m\n",
      "\u001b[32m2025-06-16 10:19:29.846\u001b[0m | \u001b[1mINFO    \u001b[0m | \u001b[36m__main__\u001b[0m:\u001b[36mexecute_step\u001b[0m:\u001b[36m29\u001b[0m - \u001b[1mt = (x̄1 - x̄2) / sqrt((s1^2 / n1) + (s2^2 / n2))\n",
      "t = (78 - 82) / sqrt((10^2 / 25) + (8^2 / 25))\n",
      "t = -4 / sqrt((100 / 25) + (64 / 25))\n",
      "t = -4 / sqrt(4 + 2.56)\n",
      "t = -4 / sqrt(6.56)\n",
      "t = -4 / 2.5612496\n",
      "t ≈ -1.5617\u001b[0m\n"
     ]
    },
    {
     "name": "stdout",
     "output_type": "stream",
     "text": [
      "Step: 4.  Calculate the t-statistic.\n",
      "Result: t ≈ -1.5617\n"
     ]
    },
    {
     "name": "stderr",
     "output_type": "stream",
     "text": [
      "\u001b[32m2025-06-16 10:19:37.009\u001b[0m | \u001b[1mINFO    \u001b[0m | \u001b[36m__main__\u001b[0m:\u001b[36mvalidate_step\u001b[0m:\u001b[36m45\u001b[0m - \u001b[1mValid\u001b[0m\n",
      "\u001b[32m2025-06-16 10:19:43.596\u001b[0m | \u001b[1mINFO    \u001b[0m | \u001b[36m__main__\u001b[0m:\u001b[36mexecute_step\u001b[0m:\u001b[36m29\u001b[0m - \u001b[1mdf = ( (s1^2/n1) + (s2^2/n2) )^2 / ( ( (s1^2/n1)^2 / (n1 - 1) ) + ( (s2^2/n2)^2 / (n2 - 1) ) )\n",
      "Given: n1=25, s1=10, n2=25, s2=8\n",
      "s1^2/n1 = 10^2/25 = 100/25 = 4\n",
      "s2^2/n2 = 8^2/25 = 64/25 = 2.56\n",
      "\n",
      "Numerator: (4 + 2.56)^2 = (6.56)^2 = 43.0336\n",
      "Denominator: ( (4^2) / (25-1) ) + ( (2.56^2) / (25-1) ) = (16/24) + (6.5536/24) = 0.66666... + 0.27306... = 0.93973...\n",
      "\n",
      "df = 43.0336 / 0.93973... ≈ 45.793\n",
      "Rounding down to the nearest whole number for conservative critical values:\n",
      "\n",
      "df = 45\u001b[0m\n"
     ]
    },
    {
     "name": "stdout",
     "output_type": "stream",
     "text": [
      "Step: 5.  Calculate the degrees of freedom for the t-test.\n",
      "Result: df = 45\n"
     ]
    },
    {
     "name": "stderr",
     "output_type": "stream",
     "text": [
      "\u001b[32m2025-06-16 10:19:57.102\u001b[0m | \u001b[1mINFO    \u001b[0m | \u001b[36m__main__\u001b[0m:\u001b[36mvalidate_step\u001b[0m:\u001b[36m45\u001b[0m - \u001b[1mThe calculation of degrees of freedom (df) depends on whether equal variances are assumed for the two-sample t-test.\n",
      "\n",
      "1.  **If equal variances are assumed (Pooled t-test):**\n",
      "    df = n1 + n2 - 2\n",
      "    df = 25 + 25 - 2 = 48\n",
      "\n",
      "2.  **If unequal variances are assumed (Welch's t-test):**\n",
      "    This is generally preferred when standard deviations are different, as they are here (10 vs 8).\n",
      "    The formula for Welch's degrees of freedom is:\n",
      "    df = ( (s1^2/n1) + (s2^2/n2) )^2 / ( (s1^2/n1)^2 / (n1-1) + (s2^2/n2)^2 / (n2-1) )\n",
      "\n",
      "    Let's plug in the values:\n",
      "    n1 = 25, s1 = 10\n",
      "    n2 = 25, s2 = 8\n",
      "\n",
      "    s1^2/n1 = 10^2/25 = 100/25 = 4\n",
      "    s2^2/n2 = 8^2/25 = 64/25 = 2.56\n",
      "\n",
      "    Numerator = (4 + 2.56)^2 = (6.56)^2 = 43.0336\n",
      "\n",
      "    Denominator = (4^2 / (25-1)) + (2.56^2 / (25-1))\n",
      "    = (16 / 24) + (6.5536 / 24)\n",
      "    = 0.6666... + 0.273066...\n",
      "    = 0.939733...\n",
      "\n",
      "    df = 43.0336 / 0.939733... = 45.793...\n",
      "\n",
      "    When using Welch's t-test, the degrees of freedom are typically rounded down to the nearest integer. Rounding 45.793... down gives 45.\n",
      "\n",
      "Given that the standard deviations are different, using Welch's t-test is appropriate, and the calculated degrees of freedom (rounded down) are 45.\n",
      "\n",
      "The result is consistent with the calculation for Welch's t-test.\n",
      "\n",
      "Valid\u001b[0m\n",
      "\u001b[32m2025-06-16 10:20:00.022\u001b[0m | \u001b[1mINFO    \u001b[0m | \u001b[36m__main__\u001b[0m:\u001b[36mexecute_step\u001b[0m:\u001b[36m29\u001b[0m - \u001b[1mCritical t-values: For a two-tailed test with df = 45 and α = 0.05, the critical t-values are ±2.014.\u001b[0m\n"
     ]
    },
    {
     "name": "stdout",
     "output_type": "stream",
     "text": [
      "Step: 6.  Determine the critical t-value(s) for the given significance level and degrees of freedom, or calculate the p-value.\n",
      "Result: Critical t-values: For a two-tailed test with df = 45 and α = 0.05, the critical t-values are ±2.014.\n"
     ]
    },
    {
     "name": "stderr",
     "output_type": "stream",
     "text": [
      "\u001b[32m2025-06-16 10:20:04.936\u001b[0m | \u001b[1mINFO    \u001b[0m | \u001b[36m__main__\u001b[0m:\u001b[36mvalidate_step\u001b[0m:\u001b[36m45\u001b[0m - \u001b[1mValid. The degrees of freedom (df = 45) are correctly calculated using the Satterthwaite approximation for Welch's t-test (appropriate given the different standard deviations), and the critical t-value of ±2.014 for a two-tailed test with df = 45 and α = 0.05 is accurate.\u001b[0m\n"
     ]
    },
    {
     "name": "stdout",
     "output_type": "stream",
     "text": [
      "Validation failed: Valid. The degrees of freedom (df = 45) are correctly calculated using the Satterthwaite approximation for Welch's t-test (appropriate given the different standard deviations), and the critical t-value of ±2.014 for a two-tailed test with df = 45 and α = 0.05 is accurate.\n"
     ]
    },
    {
     "name": "stderr",
     "output_type": "stream",
     "text": [
      "\u001b[32m2025-06-16 10:20:06.017\u001b[0m | \u001b[1mINFO    \u001b[0m | \u001b[36m__main__\u001b[0m:\u001b[36mexecute_step\u001b[0m:\u001b[36m29\u001b[0m - \u001b[1mCritical t-values: For a two-tailed test with df = 45 and α = 0.05, the critical t-values are ±2.014.\u001b[0m\n"
     ]
    },
    {
     "name": "stdout",
     "output_type": "stream",
     "text": [
      "Refined Result: Critical t-values: For a two-tailed test with df = 45 and α = 0.05, the critical t-values are ±2.014.\n"
     ]
    },
    {
     "name": "stderr",
     "output_type": "stream",
     "text": [
      "\u001b[32m2025-06-16 10:20:09.749\u001b[0m | \u001b[1mINFO    \u001b[0m | \u001b[36m__main__\u001b[0m:\u001b[36mexecute_step\u001b[0m:\u001b[36m29\u001b[0m - \u001b[1mSince |-1.5617| (calculated t-statistic) < |2.014| (critical t-value), we fail to reject the null hypothesis.\u001b[0m\n"
     ]
    },
    {
     "name": "stdout",
     "output_type": "stream",
     "text": [
      "Step: 7.  Compare the calculated t-statistic to the critical t-value(s) or compare the p-value to the significance level.\n",
      "Result: Since |-1.5617| (calculated t-statistic) < |2.014| (critical t-value), we fail to reject the null hypothesis.\n"
     ]
    },
    {
     "name": "stderr",
     "output_type": "stream",
     "text": [
      "\u001b[32m2025-06-16 10:20:16.292\u001b[0m | \u001b[1mINFO    \u001b[0m | \u001b[36m__main__\u001b[0m:\u001b[36mvalidate_step\u001b[0m:\u001b[36m45\u001b[0m - \u001b[1mValid\u001b[0m\n",
      "\u001b[32m2025-06-16 10:20:18.395\u001b[0m | \u001b[1mINFO    \u001b[0m | \u001b[36m__main__\u001b[0m:\u001b[36mexecute_step\u001b[0m:\u001b[36m29\u001b[0m - \u001b[1mFail to reject the null hypothesis. The absolute value of the calculated t-statistic (1.5617) is less than the absolute value of the critical t-value (2.014).\u001b[0m\n"
     ]
    },
    {
     "name": "stdout",
     "output_type": "stream",
     "text": [
      "Step: 8.  Make a decision regarding the null hypothesis (reject or fail to reject).\n",
      "Result: Fail to reject the null hypothesis. The absolute value of the calculated t-statistic (1.5617) is less than the absolute value of the critical t-value (2.014).\n"
     ]
    },
    {
     "name": "stderr",
     "output_type": "stream",
     "text": [
      "\u001b[32m2025-06-16 10:20:20.111\u001b[0m | \u001b[1mINFO    \u001b[0m | \u001b[36m__main__\u001b[0m:\u001b[36mvalidate_step\u001b[0m:\u001b[36m45\u001b[0m - \u001b[1mValid\u001b[0m\n",
      "\u001b[32m2025-06-16 10:20:22.324\u001b[0m | \u001b[1mINFO    \u001b[0m | \u001b[36m__main__\u001b[0m:\u001b[36mexecute_step\u001b[0m:\u001b[36m29\u001b[0m - \u001b[1mFail to reject the null hypothesis. There is no statistically significant difference between the two teaching methods (A and B) at the 5% significance level.\u001b[0m\n"
     ]
    },
    {
     "name": "stdout",
     "output_type": "stream",
     "text": [
      "Step: 9.  State the conclusion of the hypothesis test in the context of the problem.\n",
      "Result: Fail to reject the null hypothesis. There is no statistically significant difference between the two teaching methods (A and B) at the 5% significance level.\n"
     ]
    },
    {
     "name": "stderr",
     "output_type": "stream",
     "text": [
      "\u001b[32m2025-06-16 10:20:30.633\u001b[0m | \u001b[1mINFO    \u001b[0m | \u001b[36m__main__\u001b[0m:\u001b[36mvalidate_step\u001b[0m:\u001b[36m45\u001b[0m - \u001b[1mValid\u001b[0m\n",
      "\u001b[32m2025-06-16 10:20:33.686\u001b[0m | \u001b[1mINFO    \u001b[0m | \u001b[36m__main__\u001b[0m:\u001b[36mexecute_step\u001b[0m:\u001b[36m29\u001b[0m - \u001b[1mSE = sqrt((s1^2 / n1) + (s2^2 / n2)) = sqrt((10^2 / 25) + (8^2 / 25)) = sqrt((100 / 25) + (64 / 25)) = sqrt(4 + 2.56) = sqrt(6.56) ≈ 2.561\u001b[0m\n"
     ]
    },
    {
     "name": "stdout",
     "output_type": "stream",
     "text": [
      "Step: 10. Calculate the standard error of the difference between the means.\n",
      "Result: SE = sqrt((s1^2 / n1) + (s2^2 / n2)) = sqrt((10^2 / 25) + (8^2 / 25)) = sqrt((100 / 25) + (64 / 25)) = sqrt(4 + 2.56) = sqrt(6.56) ≈ 2.561\n"
     ]
    },
    {
     "name": "stderr",
     "output_type": "stream",
     "text": [
      "\u001b[32m2025-06-16 10:20:36.475\u001b[0m | \u001b[1mINFO    \u001b[0m | \u001b[36m__main__\u001b[0m:\u001b[36mvalidate_step\u001b[0m:\u001b[36m45\u001b[0m - \u001b[1mValid\u001b[0m\n",
      "\u001b[32m2025-06-16 10:20:39.460\u001b[0m | \u001b[1mINFO    \u001b[0m | \u001b[36m__main__\u001b[0m:\u001b[36mexecute_step\u001b[0m:\u001b[36m29\u001b[0m - \u001b[1mt-multiplier = 2.014. This is the same critical t-value used for a two-tailed test at α = 0.05 with df = 45, as a 95% confidence interval corresponds to an α of 0.05.\u001b[0m\n"
     ]
    },
    {
     "name": "stdout",
     "output_type": "stream",
     "text": [
      "Step: 11. Determine the t-multiplier for the 95% confidence interval using the calculated degrees of freedom.\n",
      "Result: t-multiplier = 2.014. This is the same critical t-value used for a two-tailed test at α = 0.05 with df = 45, as a 95% confidence interval corresponds to an α of 0.05.\n"
     ]
    },
    {
     "name": "stderr",
     "output_type": "stream",
     "text": [
      "\u001b[32m2025-06-16 10:20:46.078\u001b[0m | \u001b[1mINFO    \u001b[0m | \u001b[36m__main__\u001b[0m:\u001b[36mvalidate_step\u001b[0m:\u001b[36m45\u001b[0m - \u001b[1mValid. The calculation of degrees of freedom (df = 45) is consistent with the Satterthwaite approximation for Welch's t-test, which is appropriate given the different standard deviations. For a 95% confidence interval, the t-multiplier is indeed the critical t-value for a two-tailed test with α = 0.05 (i.e., t_0.025) and df = 45. Looking up this value in a t-distribution table confirms that t_0.025,45 ≈ 2.014. The explanation provided is also accurate.\u001b[0m\n"
     ]
    },
    {
     "name": "stdout",
     "output_type": "stream",
     "text": [
      "Validation failed: Valid. The calculation of degrees of freedom (df = 45) is consistent with the Satterthwaite approximation for Welch's t-test, which is appropriate given the different standard deviations. For a 95% confidence interval, the t-multiplier is indeed the critical t-value for a two-tailed test with α = 0.05 (i.e., t_0.025) and df = 45. Looking up this value in a t-distribution table confirms that t_0.025,45 ≈ 2.014. The explanation provided is also accurate.\n"
     ]
    },
    {
     "name": "stderr",
     "output_type": "stream",
     "text": [
      "\u001b[32m2025-06-16 10:20:47.945\u001b[0m | \u001b[1mINFO    \u001b[0m | \u001b[36m__main__\u001b[0m:\u001b[36mexecute_step\u001b[0m:\u001b[36m29\u001b[0m - \u001b[1mt-multiplier = 2.014\u001b[0m\n"
     ]
    },
    {
     "name": "stdout",
     "output_type": "stream",
     "text": [
      "Refined Result: t-multiplier = 2.014\n"
     ]
    },
    {
     "name": "stderr",
     "output_type": "stream",
     "text": [
      "\u001b[32m2025-06-16 10:20:51.042\u001b[0m | \u001b[1mINFO    \u001b[0m | \u001b[36m__main__\u001b[0m:\u001b[36mexecute_step\u001b[0m:\u001b[36m29\u001b[0m - \u001b[1mCI = (x̄1 - x̄2) ± (t-multiplier * SE)\n",
      "CI = (78 - 82) ± (2.014 * 2.561)\n",
      "CI = -4 ± 5.157854\n",
      "CI = [-9.158, 1.158]\u001b[0m\n"
     ]
    },
    {
     "name": "stdout",
     "output_type": "stream",
     "text": [
      "Step: 12. Calculate the 95% confidence interval for the difference in mean scores.\n",
      "Result: CI = [-9.158, 1.158]\n"
     ]
    },
    {
     "name": "stderr",
     "output_type": "stream",
     "text": [
      "\u001b[32m2025-06-16 10:21:05.145\u001b[0m | \u001b[1mINFO    \u001b[0m | \u001b[36m__main__\u001b[0m:\u001b[36mvalidate_step\u001b[0m:\u001b[36m45\u001b[0m - \u001b[1mTo validate the 95% confidence interval for the difference in mean scores, we need to perform the following calculations:\n",
      "\n",
      "1.  **Identify the given data:**\n",
      "    *   Method A: n1 = 25, x̄1 = 78, s1 = 10\n",
      "    *   Method B: n2 = 25, x̄2 = 82, s2 = 8\n",
      "    *   Confidence Level = 95% (α = 0.05)\n",
      "\n",
      "2.  **Calculate the difference in sample means:**\n",
      "    Difference (x̄1 - x̄2) = 78 - 82 = -4\n",
      "\n",
      "3.  **Calculate the standard error (SE) of the difference between means.** Since the standard deviations are different (10 vs 8), it's appropriate to use the formula for unequal variances (Welch's t-test approach for the standard error). Note that when n1=n2, the standard error formula for pooled and unpooled variances becomes identical.\n",
      "    SE = sqrt((s1^2 / n1) + (s2^2 / n2))\n",
      "    SE = sqrt((10^2 / 25) + (8^2 / 25))\n",
      "    SE = sqrt((100 / 25) + (64 / 25))\n",
      "    SE = sqrt(4 + 2.56)\n",
      "    SE = sqrt(6.56)\n",
      "    SE ≈ 2.56125\n",
      "\n",
      "4.  **Determine the degrees of freedom (df) for Welch's t-test.**\n",
      "    df = ( (s1^2/n1 + s2^2/n2)^2 ) / ( (s1^2/n1)^2 / (n1-1) + (s2^2/n2)^2 / (n2-1) )\n",
      "    df = ( (4 + 2.56)^2 ) / ( (4^2 / (25-1)) + (2.56^2 / (25-1)) )\n",
      "    df = ( 6.56^2 ) / ( (16 / 24) + (6.5536 / 24) )\n",
      "    df = 43.0336 / (0.66666... + 0.27306...)\n",
      "    df = 43.0336 / 0.93972...\n",
      "    df ≈ 45.79\n",
      "\n",
      "5.  **Find the critical t-value (t*)** for a 95% confidence interval (two-tailed, α/2 = 0.025) with df ≈ 45.79.\n",
      "    Using a t-distribution table or calculator for df = 45.79 and α/2 = 0.025, t* ≈ 2.0138.\n",
      "\n",
      "6.  **Calculate the Margin of Error (ME):**\n",
      "    ME = t* * SE\n",
      "    ME = 2.0138 * 2.56125\n",
      "    ME ≈ 5.1579\n",
      "\n",
      "7.  **Construct the Confidence Interval:**\n",
      "    CI = (x̄1 - x̄2) ± ME\n",
      "    CI = -4 ± 5.1579\n",
      "    CI = [-4 - 5.1579, -4 + 5.1579]\n",
      "    CI = [-9.1579, 1.1579]\n",
      "\n",
      "8.  **Round to three decimal places:**\n",
      "    CI = [-9.158, 1.158]\n",
      "\n",
      "The calculated confidence interval matches the provided result.\n",
      "\n",
      "The final answer is $\\boxed{Valid}$\u001b[0m\n"
     ]
    },
    {
     "name": "stdout",
     "output_type": "stream",
     "text": [
      "Validation failed: The final answer is $\\boxed{Valid}$\n"
     ]
    },
    {
     "name": "stderr",
     "output_type": "stream",
     "text": [
      "\u001b[32m2025-06-16 10:21:07.346\u001b[0m | \u001b[1mINFO    \u001b[0m | \u001b[36m__main__\u001b[0m:\u001b[36mexecute_step\u001b[0m:\u001b[36m29\u001b[0m - \u001b[1mCI = (x̄1 - x̄2) ± (t-multiplier * SE) = (78 - 82) ± (2.014 * 2.561) = -4 ± 5.157854.\n",
      "Lower bound = -4 - 5.157854 = -9.157854 ≈ -9.158\n",
      "Upper bound = -4 + 5.157854 = 1.157854 ≈ 1.158\n",
      "CI = [-9.158, 1.158]\u001b[0m\n"
     ]
    },
    {
     "name": "stdout",
     "output_type": "stream",
     "text": [
      "Refined Result: CI = [-9.158, 1.158]\n"
     ]
    },
    {
     "name": "stderr",
     "output_type": "stream",
     "text": [
      "\u001b[32m2025-06-16 10:21:10.060\u001b[0m | \u001b[1mINFO    \u001b[0m | \u001b[36m__main__\u001b[0m:\u001b[36mexecute_step\u001b[0m:\u001b[36m29\u001b[0m - \u001b[1mBased on the hypothesis test, we fail to reject the null hypothesis, indicating no statistically significant difference between the two teaching methods at the 5% significance level. The 95% confidence interval for the difference in mean scores is [-9.158, 1.158]. Since this interval includes zero, it supports the conclusion that there is no statistically significant difference between the mean scores of Method A and Method B.\u001b[0m\n"
     ]
    },
    {
     "name": "stdout",
     "output_type": "stream",
     "text": [
      "Step: 13. State the final conclusion based on both the hypothesis test and the confidence interval.\n",
      "Result: Based on the hypothesis test, we fail to reject the null hypothesis, indicating no statistically significant difference between the two teaching methods at the 5% significance level. The 95% confidence interval for the difference in mean scores is [-9.158, 1.158]. Since this interval includes zero, it supports the conclusion that there is no statistically significant difference between the mean scores of Method A and Method B.\n"
     ]
    },
    {
     "name": "stderr",
     "output_type": "stream",
     "text": [
      "\u001b[32m2025-06-16 10:21:18.712\u001b[0m | \u001b[1mINFO    \u001b[0m | \u001b[36m__main__\u001b[0m:\u001b[36mvalidate_step\u001b[0m:\u001b[36m45\u001b[0m - \u001b[1mValid\u001b[0m\n",
      "\u001b[32m2025-06-16 10:21:20.656\u001b[0m | \u001b[1mINFO    \u001b[0m | \u001b[36m__main__\u001b[0m:\u001b[36mautodicot\u001b[0m:\u001b[36m86\u001b[0m - \u001b[1mThe conclusion is that there is no statistically significant difference between the two teaching methods (A and B) at the 5% significance level. The 95% confidence interval for the difference in mean scores (Method A - Method B) is [-9.158, 1.158].\u001b[0m\n"
     ]
    },
    {
     "name": "stdout",
     "output_type": "stream",
     "text": [
      "\n",
      "Final Answer: The conclusion is that there is no statistically significant difference between the two teaching methods (A and B) at the 5% significance level. The 95% confidence interval for the difference in mean scores (Method A - Method B) is [-9.158, 1.158].\n"
     ]
    }
   ],
   "source": [
    "problem = \"\"\"A researcher is studying the effectiveness of two teaching methods (A and B) on student exam scores.\n",
    "A sample of 50 students is randomly split into two groups: 25 students are taught using Method A, and 25 using Method B.\n",
    "The exam scores (out of 100) for Method A have a mean of 78 and a standard deviation of 10, while Method B scores have a mean of 82 and a standard deviation of 8.\n",
    "Assume the scores are normally distributed.\n",
    "The researcher wants to determine if there is a statistically significant difference between the two methods at a 5% significance level using a two-sample t-test.\n",
    "Additionally, calculate the 95% confidence interval for the difference in mean scores.\n",
    "What is the conclusion, and what is the confidence interval?\"\"\"\n",
    "final_answer = autodicot(problem)\n",
    "print(f\"\\nFinal Answer: {final_answer}\")"
   ]
  }
 ],
 "metadata": {
  "kernelspec": {
   "display_name": "Python 3 (ipykernel)",
   "language": "python",
   "name": "python3"
  },
  "language_info": {
   "codemirror_mode": {
    "name": "ipython",
    "version": 3
   },
   "file_extension": ".py",
   "mimetype": "text/x-python",
   "name": "python",
   "nbconvert_exporter": "python",
   "pygments_lexer": "ipython3",
   "version": "3.9.13"
  }
 },
 "nbformat": 4,
 "nbformat_minor": 5
}
